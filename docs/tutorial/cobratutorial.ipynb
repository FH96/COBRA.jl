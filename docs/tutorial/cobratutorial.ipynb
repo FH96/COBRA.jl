{
 "cells": [
  {
   "cell_type": "markdown",
   "metadata": {},
   "source": [
    "# COBRA.jl - Tutorial"
   ]
  },
  {
   "cell_type": "markdown",
   "metadata": {},
   "source": [
    "This tutorial serves as a quick start guide as well as an interactive reference for more advanced users. Download the live notebook [here](https://github.com/opencobra/COBRA.jl/tree/master/docs/tutorial)."
   ]
  },
  {
   "cell_type": "markdown",
   "metadata": {},
   "source": [
    "## Installation"
   ]
  },
  {
   "cell_type": "markdown",
   "metadata": {},
   "source": [
    "If you do not already have the `COBRA.jl` package installed, you must first first follow the installation instructions [here](http://opencobra.github.io/COBRA.jl/)."
   ]
  },
  {
   "cell_type": "markdown",
   "metadata": {},
   "source": [
    "> Please note that should you run this tutorial on an already configured system. Otherwise, the following lines will throw an error message."
   ]
  },
  {
   "cell_type": "markdown",
   "metadata": {},
   "source": [
    "Before running any function of `COBRA.jl`, it is necessary to include the `COBRA.jl` module:"
   ]
  },
  {
   "cell_type": "code",
   "execution_count": 1,
   "metadata": {
    "collapsed": true
   },
   "outputs": [],
   "source": [
    "using COBRA"
   ]
  },
  {
   "cell_type": "markdown",
   "metadata": {},
   "source": [
    "You can test your system by running:"
   ]
  },
  {
   "cell_type": "code",
   "execution_count": 2,
   "metadata": {},
   "outputs": [
    {
     "name": "stdout",
     "output_type": "stream",
     "text": [
      "\u001b[1m\u001b[33m\n",
      " >> Checking the system's configuration ...\n",
      "\n",
      "\u001b[0m\u001b[1m\u001b[33mPackage Clp is not installed. In order to use Clp, you must first run `Pkg.add(\"Clp\")`\n",
      "\u001b[0m\u001b[1m\u001b[32mGLPKMathProgInterface is installed.\n",
      "\u001b[0m\u001b[1m\u001b[32mGurobi is installed.\n",
      "\u001b[0m\u001b[1m\u001b[32mCPLEX is installed.\n",
      "\u001b[0m\u001b[1m\u001b[33mPackage Mosek is not installed. In order to use Mosek, you must first run `Pkg.add(\"Mosek\")`\n",
      "\u001b[0m\u001b[1m\u001b[32m\n",
      " >> Done. 3 solvers are installed and ready to use.\n",
      "\u001b[0m"
     ]
    }
   ],
   "source": [
    "COBRA.checkSysConfig();"
   ]
  },
  {
   "cell_type": "markdown",
   "metadata": {},
   "source": [
    "## Beginner's Guide"
   ]
  },
  {
   "cell_type": "markdown",
   "metadata": {},
   "source": [
    "Should you not have any prior experience with Julia and/or Linux, **read carefully** the [Beginner's Guide](http://opencobra.github.io/COBRA.jl/stable/cobratutorial.html). If you however feel that you are set to proceed with this tutorial, please consider the Beginner's Guide as a go-to reference in case you are running into any issues. If you see unusual behavior, you may consider reading the [FAQ section](http://opencobra.github.io/COBRA.jl/stable/faq.html)."
   ]
  },
  {
   "cell_type": "markdown",
   "metadata": {},
   "source": [
    "### Quick help"
   ]
  },
  {
   "cell_type": "markdown",
   "metadata": {},
   "source": [
    "Do you feel lost or you don’t know the meaning of certain input parameters? Try typing a question mark at the Julia REPL followed by a keyword. For instance:\n",
    "\n",
    "```julia\n",
    "julia> ? distributedFBA\n",
    "```"
   ]
  },
  {
   "cell_type": "markdown",
   "metadata": {},
   "source": [
    "### Installation check and package testing"
   ]
  },
  {
   "cell_type": "markdown",
   "metadata": {},
   "source": [
    "Make sure that you have a working installation of `MathProgBase.jl` and at least one of the supported solvers. You may find further information [here](http://mathprogbasejl.readthedocs.io/en/latest/). \n",
    "\n",
    "If you want to install other solvers such as `CPLEX`, `CLP`, `Gurobi`, or `Mosek`, you can find more information [here](https://github.com/JuliaOpt).\n",
    "\n",
    "You may, at any time, check the integrity of the `COBRA.jl` package by running:"
   ]
  },
  {
   "cell_type": "markdown",
   "metadata": {},
   "source": [
    "```Julia\n",
    "julia> Pkg.test(\"COBRA\")\n",
    "```"
   ]
  },
  {
   "cell_type": "markdown",
   "metadata": {},
   "source": [
    "The code has been benchmarked against the `fastFVA` implementation [[3](#References-1)]. The modules and solvers are correctly installed when all tests pass without errors (warnings may appear)."
   ]
  },
  {
   "cell_type": "markdown",
   "metadata": {},
   "source": [
    "## Adding local workers"
   ]
  },
  {
   "cell_type": "markdown",
   "metadata": {},
   "source": [
    "The connection functions are given in `connect.jl`, which, if a parallel version is desired, must be included separately:"
   ]
  },
  {
   "cell_type": "code",
   "execution_count": 3,
   "metadata": {},
   "outputs": [],
   "source": [
    "include(\"$(Pkg.dir(\"COBRA\"))/src/connect.jl\")"
   ]
  },
  {
   "cell_type": "markdown",
   "metadata": {},
   "source": [
    "You may add local workers as follows:"
   ]
  },
  {
   "cell_type": "code",
   "execution_count": 4,
   "metadata": {},
   "outputs": [
    {
     "name": "stderr",
     "output_type": "stream",
     "text": [
      "\u001b[1m\u001b[34mINFO: Parallel version - Connecting the 4 workers ...\n",
      "\u001b[0m"
     ]
    },
    {
     "name": "stdout",
     "output_type": "stream",
     "text": [
      "\u001b[1m\u001b[34m4 local workers are connected. (+1) on host: macbookpro-uni-lu.local\n",
      "\u001b[0m"
     ]
    },
    {
     "data": {
      "text/plain": [
       "([2,3,4,5],4)"
      ]
     },
     "execution_count": 4,
     "metadata": {},
     "output_type": "execute_result"
    }
   ],
   "source": [
    "# specify the total number of parallel workers\n",
    "nWorkers = 4 \n",
    "\n",
    "# create a parallel pool\n",
    "workersPool, nWorkers = createPool(nWorkers) "
   ]
  },
  {
   "cell_type": "markdown",
   "metadata": {},
   "source": [
    "The IDs of the respective workers are given in `workersPool`, and the number of local workers is stored in `nWorkers`."
   ]
  },
  {
   "cell_type": "markdown",
   "metadata": {},
   "source": [
    "In order to be able to use the `COBRA` module on all connected workers, you must invoke:"
   ]
  },
  {
   "cell_type": "code",
   "execution_count": 5,
   "metadata": {
    "collapsed": true
   },
   "outputs": [],
   "source": [
    "@everywhere using COBRA;"
   ]
  },
  {
   "cell_type": "markdown",
   "metadata": {},
   "source": [
    "## Define and change the COBRA solver\n",
    "\n",
    "Before the COBRA solver can be defined, the solver parameters and configuration must be loaded after having set the `solverName` (solver must be installed):\n",
    "\n",
    "- `:GLPKMathProgInterface`\n",
    "- `:CPLEX`\n",
    "- `:Clp`\n",
    "- `:Gurobi`\n",
    "- `:Mosek`"
   ]
  },
  {
   "cell_type": "code",
   "execution_count": 6,
   "metadata": {},
   "outputs": [
    {
     "data": {
      "text/plain": [
       "2-element Array{Any,1}:\n",
       "     :Simplex\n",
       " true        "
      ]
     },
     "execution_count": 6,
     "metadata": {},
     "output_type": "execute_result"
    }
   ],
   "source": [
    "# specify the solver name\n",
    "solverName = :GLPKMathProgInterface\n",
    "\n",
    "# include the solver configuration file\n",
    "include(\"$(Pkg.dir(\"COBRA\"))/config/solverCfg.jl\")"
   ]
  },
  {
   "cell_type": "code",
   "execution_count": 7,
   "metadata": {},
   "outputs": [
    {
     "data": {
      "text/plain": [
       "COBRA.SolverConfig(\"GLPK\",GLPKMathProgInterface.GLPKInterfaceLP.GLPKSolverLP(true,:Simplex,Any[]))"
      ]
     },
     "execution_count": 7,
     "metadata": {},
     "output_type": "execute_result"
    }
   ],
   "source": [
    "# change the COBRA solver\n",
    "solver = changeCobraSolver(solverName, solParams)"
   ]
  },
  {
   "cell_type": "markdown",
   "metadata": {},
   "source": [
    "where `solParams` is an array with the definition of the solver parameters."
   ]
  },
  {
   "cell_type": "markdown",
   "metadata": {},
   "source": [
    "## Load a COBRA model\n",
    "\n",
    "As a test and as an example, the *E.coli* core model may be loaded as:"
   ]
  },
  {
   "cell_type": "code",
   "execution_count": 8,
   "metadata": {},
   "outputs": [
    {
     "name": "stderr",
     "output_type": "stream",
     "text": [
      "\u001b[1m\u001b[34mINFO: The ecoli_core model already exists.\n",
      "\u001b[0m"
     ]
    }
   ],
   "source": [
    "# download the test model\n",
    "using Requests\n",
    "include(\"$(Pkg.dir(\"COBRA\"))/test/getTestModel.jl\")\n",
    "getTestModel()"
   ]
  },
  {
   "cell_type": "markdown",
   "metadata": {},
   "source": [
    "Load the stoichiometric matrix S from a MATLAB `structure` named model in the specified .mat file"
   ]
  },
  {
   "cell_type": "code",
   "execution_count": 9,
   "metadata": {},
   "outputs": [
    {
     "name": "stderr",
     "output_type": "stream",
     "text": [
      "\u001b[1m\u001b[34mINFO: The model objective is set to be maximized.\n",
      "\u001b[0m\u001b[1m\u001b[34mINFO: All constraints assumed equality constaints.\n",
      "\u001b[0m"
     ]
    }
   ],
   "source": [
    "model = loadModel(\"ecoli_core_model.mat\", \"S\", \"model\");"
   ]
  },
  {
   "cell_type": "markdown",
   "metadata": {},
   "source": [
    "where `S` is the name of the field of the stoichiometric matrix and `model` is the name of the model. Note the semicolon that suppresses the ouput of `model`."
   ]
  },
  {
   "cell_type": "markdown",
   "metadata": {},
   "source": [
    "\n",
    "## Flux Balance Analysis (FBA)\n",
    "\n",
    "In order to run a flux balance analysis (FBA), `distributedFBA` can be invoked with only 1 reaction and without an extra condition:"
   ]
  },
  {
   "cell_type": "code",
   "execution_count": 10,
   "metadata": {},
   "outputs": [
    {
     "name": "stdout",
     "output_type": "stream",
     "text": [
      "\u001b[1m\u001b[34mOriginal FBA. No additional constraints have been added.\n",
      "\u001b[0m >> Only 1 reaction of 95 will be solved (~ 1.0526315789473684 %).\n",
      "\n",
      " -- Maximization (iRound = 1). Block 1 [1/95].\n"
     ]
    }
   ],
   "source": [
    "# set the reaction list (only one reaction)\n",
    "rxnsList = 13\n",
    "\n",
    "# select the reaction optimization mode\n",
    "#  0: only minimization\n",
    "#  1: only maximization\n",
    "#  2: maximization and minimization\n",
    "rxnsOptMode = 1\n",
    "\n",
    "# launch the distributedFBA process with only 1 reaction on 1 worker\n",
    "minFlux, maxFlux  = distributedFBA(model, solver, nWorkers=1, rxnsList=rxnsList, rxnsOptMode=rxnsOptMode);"
   ]
  },
  {
   "cell_type": "markdown",
   "metadata": {},
   "source": [
    "where the reaction number `13` is solved. Note that the no extra conditions are added to the model (last function argument is `false`). The minimum flux and maximum flux can hence be listed as:"
   ]
  },
  {
   "cell_type": "code",
   "execution_count": 11,
   "metadata": {
    "scrolled": true
   },
   "outputs": [
    {
     "data": {
      "text/plain": [
       "0.8739215069684303"
      ]
     },
     "execution_count": 11,
     "metadata": {},
     "output_type": "execute_result"
    }
   ],
   "source": [
    "maxFlux[rxnsList]"
   ]
  },
  {
   "cell_type": "markdown",
   "metadata": {},
   "source": [
    "## Flux Variability Analysis (FVA)\n",
    "\n",
    "In order to run a common flux variability analysis (FVA), `distributedFBA` can be invoked with all reactions as follows:"
   ]
  },
  {
   "cell_type": "code",
   "execution_count": 12,
   "metadata": {},
   "outputs": [
    {
     "name": "stdout",
     "output_type": "stream",
     "text": [
      "\n",
      " >> Size of stoichiometric matrix: (72, 95)\n",
      "\n",
      "\u001b[1m\u001b[34mpreFBA! [osenseStr = max]: FBAobj = 0.8739215069684303, optPercentage = 90.0, objValue = optPercentage * FBAobj = 0.7865289, norm(fbaSol) = 106.83731553000716.\n",
      "\n",
      "\u001b[0m\u001b[1m\u001b[32mOriginal FBA solved. Solution time: 0.6389560699462891 s.\n",
      "\n",
      "\u001b[0m >> All 95 reactions of the model will be solved (100 %).\n",
      "\n",
      "\u001b[1m\u001b[34mAverage load per worker: 24 reactions (4 workers).\n",
      "\u001b[0m\u001b[1m\u001b[34mSplitting strategy is 0.\n",
      "\n",
      "\u001b[0m\tFrom worker 5:\t -- Minimization (iRound = 0). Block 5 [23/95].\n",
      "\tFrom worker 4:\t -- Minimization (iRound = 0). Block 4 [24/95].\n",
      "\tFrom worker 3:\t -- Minimization (iRound = 0). Block 3 [24/95].\n",
      "\tFrom worker 2:\t -- Minimization (iRound = 0). Block 2 [24/95].\n",
      "\tFrom worker 4:\t -- Maximization (iRound = 1). Block 4 [24/95].\n",
      "\tFrom worker 5:\t -- Maximization (iRound = 1). Block 5 [23/95].\n",
      "\tFrom worker 3:\t -- Maximization (iRound = 1). Block 3 [24/95].\n",
      "\tFrom worker 2:\t -- Maximization (iRound = 1). Block 2 [24/95].\n"
     ]
    }
   ],
   "source": [
    "# launch the distributedFBA process with all reactions\n",
    "minFlux, maxFlux, optSol, fbaSol, fvamin, fvamax = distributedFBA(model, solver, nWorkers=4, optPercentage=90.0, preFBA=true);"
   ]
  },
  {
   "cell_type": "markdown",
   "metadata": {},
   "source": [
    "The optimal solution of the original FBA problem can be retrieved with:"
   ]
  },
  {
   "cell_type": "code",
   "execution_count": 13,
   "metadata": {},
   "outputs": [
    {
     "data": {
      "text/plain": [
       "0.8739215069684303"
      ]
     },
     "execution_count": 13,
     "metadata": {},
     "output_type": "execute_result"
    }
   ],
   "source": [
    "optSol"
   ]
  },
  {
   "cell_type": "markdown",
   "metadata": {},
   "source": [
    "The corresponding solution vector `maxFlux` of the original FBA that is solved with:"
   ]
  },
  {
   "cell_type": "code",
   "execution_count": 14,
   "metadata": {},
   "outputs": [
    {
     "data": {
      "text/plain": [
       "95-element Array{Float64,1}:\n",
       " -5.8486e-30 \n",
       "  0.0        \n",
       "  1.46336e-29\n",
       "  6.00725    \n",
       "  6.00725    \n",
       " -0.0        \n",
       "  0.0        \n",
       "  5.06438    \n",
       " -0.0        \n",
       " -5.8486e-30 \n",
       "  8.39       \n",
       " 45.514      \n",
       "  0.873922   \n",
       "  ⋮          \n",
       " -0.0        \n",
       "  2.67848    \n",
       " -2.2815     \n",
       " -7.93232e-29\n",
       "  0.0        \n",
       "  5.06438    \n",
       " -5.06438    \n",
       "  1.49698    \n",
       "  0.0        \n",
       "  1.49698    \n",
       "  1.1815     \n",
       "  7.47738    "
      ]
     },
     "execution_count": 14,
     "metadata": {},
     "output_type": "execute_result"
    }
   ],
   "source": [
    "fbaSol"
   ]
  },
  {
   "cell_type": "markdown",
   "metadata": {},
   "source": [
    "The minimum and maximum fluxes of each reaction are in:"
   ]
  },
  {
   "cell_type": "code",
   "execution_count": 15,
   "metadata": {},
   "outputs": [
    {
     "data": {
      "text/plain": [
       "95-element Array{Float64,1}:\n",
       "   -2.9243e-29 \n",
       "    0.0        \n",
       "   -8.87161e-29\n",
       "    8.89453    \n",
       "    8.89453    \n",
       "    0.0        \n",
       "   17.1611     \n",
       "    8.04594    \n",
       "    0.0        \n",
       "   -2.9243e-29 \n",
       "   25.5511     \n",
       "   59.3811     \n",
       "    0.873922   \n",
       "    ⋮          \n",
       "    0.0        \n",
       "   15.5265     \n",
       "   -0.565357   \n",
       "   22.8815     \n",
       "   22.8815     \n",
       " 1000.0        \n",
       "   -1.00265e-28\n",
       "    7.90523    \n",
       "   37.0422     \n",
       "    7.90523    \n",
       "    7.62129    \n",
       "    9.21764    "
      ]
     },
     "execution_count": 15,
     "metadata": {},
     "output_type": "execute_result"
    }
   ],
   "source": [
    "maxFlux"
   ]
  },
  {
   "cell_type": "markdown",
   "metadata": {},
   "source": [
    "The flux vectors of all the reactions are stored in `fvamin` and `fvamax`."
   ]
  },
  {
   "cell_type": "code",
   "execution_count": 16,
   "metadata": {},
   "outputs": [
    {
     "data": {
      "text/plain": [
       "95×95 Array{Float64,2}:\n",
       " -2.54238      -2.54238       2.19322e-30  …  -1.0235e-29   -2.23709e-28\n",
       " -2.54238      -2.54238       0.0              0.0           0.0        \n",
       " -2.2865e-31   -2.2865e-31   -3.81358         -4.29861e-29   1.36458e-27\n",
       "  4.75567       4.75567       3.23024          7.8033        0.848586   \n",
       "  4.75567       4.75567       3.23024          7.8033        0.848586   \n",
       " -0.0          -0.0          -3.81358      …  -0.0          -0.0        \n",
       "  0.0           0.0           0.0              0.0           3.97558    \n",
       "  3.90709       3.90709       2.38166          6.87133       0.0        \n",
       " -0.0          -0.0          -0.0             -0.0          -0.0        \n",
       "  8.04182e-30   8.04182e-30   2.19322e-30     -1.0235e-29   -2.23709e-28\n",
       "  8.39          8.39          8.39         …   8.39          8.39       \n",
       " 40.5609       40.5609       38.527           41.3535       54.893      \n",
       "  0.786529      0.786529      0.786529         0.863813      0.786529   \n",
       "  ⋮                                        ⋱                            \n",
       " -0.0          -0.0          -0.0             -0.0          -0.0        \n",
       "  2.62758       2.62758       3.13606         -0.620909     15.5265     \n",
       " -2.16183      -2.16183      -2.41606      …  -0.620909     -8.6113     \n",
       " -0.0          -0.0          -0.0             -0.0          -0.0        \n",
       "  0.0           0.0           0.0              0.0           0.0        \n",
       "  3.90709       3.90709       2.38166          6.87133       0.0        \n",
       " -3.90709      -3.90709      -2.38166         -6.87133      -1.77592e-27\n",
       "  1.45576       1.45576       1.71         …  -0.154536      7.90523    \n",
       "  0.0           0.0           0.0              7.9397        8.97615    \n",
       "  1.45576       1.45576       1.71            -0.154536      7.90523    \n",
       "  1.17182       1.17182       1.42606         -0.466373      7.62129    \n",
       "  7.62117       7.62117       7.36693          9.14076       1.1717     "
      ]
     },
     "execution_count": 16,
     "metadata": {},
     "output_type": "execute_result"
    }
   ],
   "source": [
    "fvamin"
   ]
  },
  {
   "cell_type": "code",
   "execution_count": 17,
   "metadata": {
    "scrolled": true
   },
   "outputs": [
    {
     "data": {
      "text/plain": [
       "95×95 Array{Float64,2}:\n",
       " -2.9243e-29   -2.9243e-29   -2.9243e-29   …  -2.23709e-28  -2.9243e-29 \n",
       "  0.0           0.0           0.0              0.0           0.0        \n",
       " -8.87161e-29  -8.87161e-29  -8.87161e-29      1.36458e-27  -8.87161e-29\n",
       "  8.89453       8.89453       8.89453          0.848586      8.89453    \n",
       "  8.89453       8.89453       8.89453          0.848586      8.89453    \n",
       " -0.0          -0.0          -0.0          …  -0.0          -0.0        \n",
       "  0.0           0.0           0.0              3.97558       0.0        \n",
       "  8.04594       8.04594       8.04594          0.0           8.04594    \n",
       " -0.0          -0.0          -0.0             -0.0          -0.0        \n",
       " -2.9243e-29   -2.9243e-29   -2.9243e-29      -2.23709e-28  -2.9243e-29 \n",
       "  8.39          8.39          8.39         …   8.39          8.39       \n",
       " 38.8959       38.8959       38.8959          54.893        38.8959     \n",
       "  0.786529      0.786529      0.786529         0.786529      0.786529   \n",
       "  ⋮                                        ⋱                            \n",
       " -0.0          -0.0          -0.0             -0.0          -0.0        \n",
       " -0.565357     -0.565357     -0.565357        15.5265       -0.565357   \n",
       " -0.565357     -0.565357     -0.565357     …  -8.6113       -0.565357   \n",
       " -0.0          -0.0          -0.0             -0.0          -0.0        \n",
       "  0.0           0.0           0.0              0.0           0.0        \n",
       "  8.04594       8.04594       8.04594          0.0           8.04594    \n",
       " -8.04594      -8.04594      -8.04594         -1.77592e-27  -8.04594    \n",
       " -0.14071      -0.14071      -0.14071      …   7.90523      -0.14071    \n",
       " 28.9014       28.9014       28.9014           8.97615      28.9014     \n",
       " -0.14071      -0.14071      -0.14071          7.90523      -0.14071    \n",
       " -0.424647     -0.424647     -0.424647         7.62129      -0.424647   \n",
       "  9.21764       9.21764       9.21764          1.1717        9.21764    "
      ]
     },
     "execution_count": 17,
     "metadata": {},
     "output_type": "execute_result"
    }
   ],
   "source": [
    "fvamax"
   ]
  },
  {
   "cell_type": "markdown",
   "metadata": {},
   "source": [
    "## Distributed FBA of distinct reactions\n",
    "\n",
    "You may now input several reactions with various `rxnsOptMode` values to run specific optimization problems."
   ]
  },
  {
   "cell_type": "code",
   "execution_count": 18,
   "metadata": {},
   "outputs": [
    {
     "name": "stdout",
     "output_type": "stream",
     "text": [
      "\u001b[1m\u001b[34mOriginal FBA. No additional constraints have been added.\n",
      "\u001b[0m >> All 95 reactions of the model will be solved (100 %).\n",
      "\n",
      " -- Minimization (iRound = 0). Block 1 [95/95].\n",
      " -- Maximization (iRound = 1). Block 1 [95/95].\n"
     ]
    }
   ],
   "source": [
    "rxnsList = [1; 18; 10; 20:30; 90; 93; 95]\n",
    "rxnsOptMode = [0; 1; 2; 2+zeros(Int, length(20:30)); 2; 1; 0]\n",
    "\n",
    "# run only a few reactions with rxnsOptMode and rxnsList\n",
    "# distributedFBA(model, solver, nWorkers, optPercentage, objective, rxnsList, strategy, preFBA, rxnsOptMode)\n",
    "minFlux, maxFlux, optSol, fbaSol, fvamin, fvamax, statussolmin, statussolmax = distributedFBA(model, solver);"
   ]
  },
  {
   "cell_type": "markdown",
   "metadata": {},
   "source": [
    "Note that the reactions can be input as an unordered list."
   ]
  },
  {
   "cell_type": "markdown",
   "metadata": {},
   "source": [
    "## Saving the variables"
   ]
  },
  {
   "cell_type": "markdown",
   "metadata": {},
   "source": [
    "You can save the output of `distributedFBA` by using:"
   ]
  },
  {
   "cell_type": "code",
   "execution_count": 19,
   "metadata": {},
   "outputs": [
    {
     "name": "stdout",
     "output_type": "stream",
     "text": [
      "Saving minFlux (T:> Array{Float64,1}) ...\u001b[1m\u001b[32mDone.\n",
      "\u001b[0mSaving maxFlux (T:> Array{Float64,1}) ...\u001b[1m\u001b[32mDone.\n",
      "\u001b[0mSaving optSol (T:> Float64) ...\u001b[1m\u001b[32mDone.\n",
      "\u001b[0mSaving fbaSol (T:> Array{Float64,1}) ...\u001b[1m\u001b[32mDone.\n",
      "\u001b[0mSaving fvamin (T:> Array{Float64,2}) ...\u001b[1m\u001b[32mDone.\n",
      "\u001b[0mSaving fvamax (T:> Array{Float64,2}) ...\u001b[1m\u001b[32mDone.\n",
      "\u001b[0mSaving statussolmin (T:> Array{Float64,1}) ...\u001b[1m\u001b[32mDone.\n",
      "\u001b[0mSaving statussolmax (T:> Array{Float64,1}) ...\u001b[1m\u001b[32mDone.\n",
      "\u001b[0mSaving rxnsList (T:> Array{Int64,1}) ...\u001b[1m\u001b[32mDone.\n",
      "\u001b[0m\u001b[1m\u001b[32mAll available variables saved to results.mat.\n",
      "\u001b[0m"
     ]
    }
   ],
   "source": [
    "saveDistributedFBA(\"results.mat\")"
   ]
  },
  {
   "cell_type": "markdown",
   "metadata": {},
   "source": [
    "Note that the results are saved in a `.mat` file that can be opened in MATLAB for further processing."
   ]
  },
  {
   "cell_type": "markdown",
   "metadata": {},
   "source": [
    "## Cleanup\n",
    "\n",
    "In order to cleanup the files generated during this tutorial, you can remove the files using:"
   ]
  },
  {
   "cell_type": "code",
   "execution_count": 20,
   "metadata": {},
   "outputs": [],
   "source": [
    "rm(\"ecoli_core_model.mat\")\n",
    "rm(\"results.mat\")"
   ]
  },
  {
   "cell_type": "markdown",
   "metadata": {},
   "source": [
    "## References"
   ]
  },
  {
   "cell_type": "markdown",
   "metadata": {},
   "source": [
    "1. [B. O. Palsson. Systems Biology: Constraint-based Reconstruction and Analysis. Cambridge University Press, NY, 2015.](http://www.cambridge.org/us/academic/subjects/life-sciences/genomics-bioinformatics-and-systems-biology/systems-biology-constraint-based-reconstruction-and-analysis?format=HB)\n",
    "2. [Schellenberger, J. et al. COBRA Toolbox 2.0. 05 2011.](https://github.com/opencobra/cobratoolbox)\n",
    "3. [Steinn, G. et al. Computationally efficient flux variability analysis. BMC Bioinformatics, 11(1):1–3, 2010.](https://bmcbioinformatics.biomedcentral.com/articles/10.1186/1471-2105-11-489)\n",
    "4. [Orth, J. et al. Reconstruction and use of microbial metabolic networks: the core escherichia coli metabolic model as an educational guide. EcoSal Plus, 2010.](http://gcrg.ucsd.edu/Downloads/EcoliCore)\n"
   ]
  }
 ],
 "metadata": {
  "anaconda-cloud": {},
  "kernelspec": {
   "display_name": "Julia 0.5.2",
   "language": "julia",
   "name": "julia-0.5"
  },
  "language_info": {
   "file_extension": ".jl",
   "mimetype": "application/julia",
   "name": "julia",
   "version": "0.5.2"
  }
 },
 "nbformat": 4,
 "nbformat_minor": 1
}
