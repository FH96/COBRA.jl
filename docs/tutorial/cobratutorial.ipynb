{
 "cells": [
  {
   "cell_type": "markdown",
   "metadata": {},
   "source": [
    "# COBRA.jl - Tutorial"
   ]
  },
  {
   "cell_type": "markdown",
   "metadata": {},
   "source": [
    "This tutorial serves as a quick start guide as well as an interactive reference for more advanced users.\n",
    "\n",
    "Download the live notebook [here](https://github.com/opencobra/COBRA.jl/tree/master/docs/tutorial)."
   ]
  },
  {
   "cell_type": "markdown",
   "metadata": {},
   "source": [
    "## Beginner's Guide"
   ]
  },
  {
   "cell_type": "markdown",
   "metadata": {},
   "source": [
    "Should you not have any prior experience with Julia and/or Linux, please **read carefully** the [Beginner's Guide](http://opencobra.github.io/COBRA.jl/stable/cobratutorial.html). If you however feel that you are set to proceed with this tutorial, please consider the Beginner's Guide as a go-to reference in case you are running into any issues. If you see unusual behavior, you may consider reading the [FAQ section](http://opencobra.github.io/COBRA.jl/stable/faq.html)."
   ]
  },
  {
   "cell_type": "code",
   "execution_count": 91,
   "metadata": {},
   "outputs": [
    {
     "name": "stderr",
     "output_type": "stream",
     "text": [
      "WARNING: Method definition getTestModel() in module Main at /home/laurent/.julia/v0.5/COBRA/test/getTestModel.jl:3 overwritten at /home/laurent/.julia/v0.5/COBRA/test/getTestModel.jl:3.\n",
      "\u001b[1m\u001b[34mINFO: The ecoli_core model already exists.\n",
      "\u001b[0m"
     ]
    },
    {
     "ename": "LoadError",
     "evalue": "File \"/home/laurent/.julia/v0.5/COBRA/test/ecoli_core_model.mat\" does not exist and create was not specified",
     "output_type": "error",
     "traceback": [
      "File \"/home/laurent/.julia/v0.5/COBRA/test/ecoli_core_model.mat\" does not exist and create was not specified",
      "",
      " in matopen(::String, ::Bool, ::Bool, ::Bool, ::Bool, ::Bool) at /home/laurent/.julia/v0.5/MAT/src/MAT.jl:47",
      " in matopen(::String, ::String) at /home/laurent/.julia/v0.5/MAT/src/MAT.jl:91",
      " in loadModel(::String, ::String, ::String, ::Array{String,1}) at /home/laurent/.julia/v0.5/COBRA/src/load.jl:81 (repeats 2 times)"
     ]
    }
   ],
   "source": [
    "# donwload the test model\n",
    "include(\"$(Pkg.dir(\"COBRA\"))/test/getTestModel.jl\")\n",
    "getTestModel()\n",
    "\n",
    "# load the stoichiometric matrix S from a struct named model in the specified .mat file\n",
    "model = loadModel(\"$(Pkg.dir(\"COBRA\"))/test/ecoli_core_model.mat\", \"S\", \"model\");"
   ]
  },
  {
   "cell_type": "markdown",
   "metadata": {},
   "source": [
    "## Quick installation"
   ]
  },
  {
   "cell_type": "markdown",
   "metadata": {},
   "source": [
    "Should you not already have the `COBRA.jl` package, you must first first follow the installation instructions [here](http://opencobra.github.io/COBRA.jl/)."
   ]
  },
  {
   "cell_type": "markdown",
   "metadata": {},
   "source": [
    "> Please note that should you run this tutorial on an already configured system, the following lines will throw an error message."
   ]
  },
  {
   "cell_type": "markdown",
   "metadata": {},
   "source": [
    "Before running any function of `COBRA.jl`, it is necessary to include the `COBRA.jl` module:"
   ]
  },
  {
   "cell_type": "code",
   "execution_count": 92,
   "metadata": {},
   "outputs": [],
   "source": [
    "using COBRA"
   ]
  },
  {
   "cell_type": "markdown",
   "metadata": {},
   "source": [
    "## Quick help"
   ]
  },
  {
   "cell_type": "markdown",
   "metadata": {},
   "source": [
    "Should you feel lost or don't know the meaning of certain input parameters, try typing a question mark at the Julia REPL followed by a keyword. For instance:"
   ]
  },
  {
   "cell_type": "code",
   "execution_count": 93,
   "metadata": {},
   "outputs": [
    {
     "name": "stdout",
     "output_type": "stream",
     "text": [
      "search: \u001b[1md\u001b[22m\u001b[1mi\u001b[22m\u001b[1ms\u001b[22m\u001b[1mt\u001b[22m\u001b[1mr\u001b[22m\u001b[1mi\u001b[22m\u001b[1mb\u001b[22m\u001b[1mu\u001b[22m\u001b[1mt\u001b[22m\u001b[1me\u001b[22m\u001b[1md\u001b[22m\u001b[1mF\u001b[22m\u001b[1mB\u001b[22m\u001b[1mA\u001b[22m save\u001b[1mD\u001b[22m\u001b[1mi\u001b[22m\u001b[1ms\u001b[22m\u001b[1mt\u001b[22m\u001b[1mr\u001b[22m\u001b[1mi\u001b[22m\u001b[1mb\u001b[22m\u001b[1mu\u001b[22m\u001b[1mt\u001b[22m\u001b[1me\u001b[22m\u001b[1md\u001b[22m\u001b[1mF\u001b[22m\u001b[1mB\u001b[22m\u001b[1mA\u001b[22m\n",
      "\n"
     ]
    },
    {
     "data": {
      "text/markdown": [
       "```\n",
       "distributedFBA(model, solver, nWorkers, optPercentage, objective, rxnsList, strategy, rxnsOptMode, preFBA, saveChunks, resultsDir, logFiles, onlyFluxes)\n",
       "```\n",
       "\n",
       "Function to distribute a series of FBA problems across one or more workers that have been initialized using the `createPool` function (or similar).\n",
       "\n",
       "# INPUTS\n",
       "\n",
       "  * `model`:          An `::LPproblem` object that has been built using the `loadModel` function.                       All fields of `model` must be available.\n",
       "  * `solver`:         A `::SolverConfig` object that contains a valid `handle` to the solver\n",
       "  * `nWorkers`:       Number of workers as initialized using `createPool()` or similar\n",
       "\n",
       "# OPTIONAL INPUTS\n",
       "\n",
       "  * `optPercentage`:  Only consider solutions that give you at least a certain percentage of the optimal solution (default: 100%)\n",
       "  * `objective`:      Objective (\"min\" or \"max\") (default: \"max\")\n",
       "  * `rxnsList`:       List of reactions to analyze (default: all reactions)\n",
       "  * `strategy`:       Number of the splitting strategy\n",
       "\n",
       "      * 0: Blind splitting: default random distribution\n",
       "      * 1: Extremal dense-and-sparse splitting: every worker receives dense and sparse reactions, starting from both extremal indices of the sorted column density vector\n",
       "      * 2: Central dense-and-sparse splitting: every worker receives dense and sparse reactions, starting from the beginning and center indices of the sorted column density vector\n",
       "  * `rxnsOptMode`:    List of min/max optimizations to perform:\n",
       "\n",
       "      * 0: only minimization\n",
       "      * 1: only maximization\n",
       "      * 2: minimization & maximization [default: all reactions are minimized and maximized, i.e. `2+zeros(Int,length(model.rxns))]`\n",
       "  * `preFBA`:         Solve the original FBA and add a percentage condition (Boolean variable, default: true for flux variability analysis FVA)\n",
       "  * `saveChunks`:     Save the fluxes of the minimizations and maximizations in individual files on each worker (applicable for large models, default: false)\n",
       "  * `resultsDir`:     Path to results folder (default is a `results` folder in the Julia package directory)\n",
       "  * `logFiles`:       Boolean to write a solver logfile of each optimization (default: false)\n",
       "  * `onlyFluxes`:     Save only minFlux and maxFlux if true and will return placeholders for `fvamin`, `fvamax`, `statussolmin`, or `statussolmax` (applicable for quick checks of large models, default: false)\n",
       "\n",
       "# OUTPUTS\n",
       "\n",
       "  * `minFlux`:        Minimum flux for each reaction\n",
       "  * `maxFlux`:        Maximum flux for each reaction\n",
       "  * `optSol`:         Optimal solution of the initial FBA (if `preFBA` set to `true`)\n",
       "  * `fbaSol`:         Solution vector of the initial FBA (if `preFBA` set to `true`)\n",
       "  * `fvamin`:         Array with flux values for the considered reactions (minimization) (if `onlyFluxes` set to `false`)     Note: `fvamin` is saved in individual `.mat` files when `saveChunks` is `true`.\n",
       "  * `fvamax`:         Array with flux values for the considered reactions (maximization) (if `onlyFluxes` set to `false`)     Note: `fvamax` is saved in individual `.mat` files when `saveChunks` is `true`.\n",
       "  * `statussolmin`:   Vector of solution status for each reaction (minimization) (if `onlyFluxes` set to `false`)\n",
       "  * `statussolmax`:   Vector of solution status for each reaction (maximization) (if `onlyFluxes` set to `false`)\n",
       "\n",
       "# EXAMPLES\n",
       "\n",
       "  * Minimum working example\n",
       "\n",
       "```julia\n",
       "julia> minFlux, maxFlux = distributedFBA(model, solver)\n",
       "```\n",
       "\n",
       "  * Full input/output example\n",
       "\n",
       "```julia\n",
       "julia> minFlux, maxFlux, optSol, fbaSol, fvamin, fvamax, statussolmin, statussolmax = distributedFBA(model, solver, nWorkers=nWorkers, logFiles=true)\n",
       "```\n",
       "\n",
       "  * Save only the fluxes\n",
       "\n",
       "```julia\n",
       "julia> minFlux, maxFlux = distributedFBA(model, solver, preFBA=true, saveChunks=false, onlyFluxes=true)\n",
       "```\n",
       "\n",
       "  * Save flux vectors in files\n",
       "\n",
       "```julia\n",
       "julia> minFlux, maxFlux, optSol, fbaSol, fvamin, fvamax, statussolmin, statussolmax = distributedFBA(model, solver)\n",
       "```\n",
       "\n",
       "See also: `preFBA!()`, `splitRange()`, `buildCobraLP()`, `loopFBA()`, or `fetch()`\n"
      ],
      "text/plain": [
       "```\n",
       "distributedFBA(model, solver, nWorkers, optPercentage, objective, rxnsList, strategy, rxnsOptMode, preFBA, saveChunks, resultsDir, logFiles, onlyFluxes)\n",
       "```\n",
       "\n",
       "Function to distribute a series of FBA problems across one or more workers that have been initialized using the `createPool` function (or similar).\n",
       "\n",
       "# INPUTS\n",
       "\n",
       "  * `model`:          An `::LPproblem` object that has been built using the `loadModel` function.                       All fields of `model` must be available.\n",
       "  * `solver`:         A `::SolverConfig` object that contains a valid `handle` to the solver\n",
       "  * `nWorkers`:       Number of workers as initialized using `createPool()` or similar\n",
       "\n",
       "# OPTIONAL INPUTS\n",
       "\n",
       "  * `optPercentage`:  Only consider solutions that give you at least a certain percentage of the optimal solution (default: 100%)\n",
       "  * `objective`:      Objective (\"min\" or \"max\") (default: \"max\")\n",
       "  * `rxnsList`:       List of reactions to analyze (default: all reactions)\n",
       "  * `strategy`:       Number of the splitting strategy\n",
       "\n",
       "      * 0: Blind splitting: default random distribution\n",
       "      * 1: Extremal dense-and-sparse splitting: every worker receives dense and sparse reactions, starting from both extremal indices of the sorted column density vector\n",
       "      * 2: Central dense-and-sparse splitting: every worker receives dense and sparse reactions, starting from the beginning and center indices of the sorted column density vector\n",
       "  * `rxnsOptMode`:    List of min/max optimizations to perform:\n",
       "\n",
       "      * 0: only minimization\n",
       "      * 1: only maximization\n",
       "      * 2: minimization & maximization [default: all reactions are minimized and maximized, i.e. `2+zeros(Int,length(model.rxns))]`\n",
       "  * `preFBA`:         Solve the original FBA and add a percentage condition (Boolean variable, default: true for flux variability analysis FVA)\n",
       "  * `saveChunks`:     Save the fluxes of the minimizations and maximizations in individual files on each worker (applicable for large models, default: false)\n",
       "  * `resultsDir`:     Path to results folder (default is a `results` folder in the Julia package directory)\n",
       "  * `logFiles`:       Boolean to write a solver logfile of each optimization (default: false)\n",
       "  * `onlyFluxes`:     Save only minFlux and maxFlux if true and will return placeholders for `fvamin`, `fvamax`, `statussolmin`, or `statussolmax` (applicable for quick checks of large models, default: false)\n",
       "\n",
       "# OUTPUTS\n",
       "\n",
       "  * `minFlux`:        Minimum flux for each reaction\n",
       "  * `maxFlux`:        Maximum flux for each reaction\n",
       "  * `optSol`:         Optimal solution of the initial FBA (if `preFBA` set to `true`)\n",
       "  * `fbaSol`:         Solution vector of the initial FBA (if `preFBA` set to `true`)\n",
       "  * `fvamin`:         Array with flux values for the considered reactions (minimization) (if `onlyFluxes` set to `false`)     Note: `fvamin` is saved in individual `.mat` files when `saveChunks` is `true`.\n",
       "  * `fvamax`:         Array with flux values for the considered reactions (maximization) (if `onlyFluxes` set to `false`)     Note: `fvamax` is saved in individual `.mat` files when `saveChunks` is `true`.\n",
       "  * `statussolmin`:   Vector of solution status for each reaction (minimization) (if `onlyFluxes` set to `false`)\n",
       "  * `statussolmax`:   Vector of solution status for each reaction (maximization) (if `onlyFluxes` set to `false`)\n",
       "\n",
       "# EXAMPLES\n",
       "\n",
       "  * Minimum working example\n",
       "\n",
       "```julia\n",
       "julia> minFlux, maxFlux = distributedFBA(model, solver)\n",
       "```\n",
       "\n",
       "  * Full input/output example\n",
       "\n",
       "```julia\n",
       "julia> minFlux, maxFlux, optSol, fbaSol, fvamin, fvamax, statussolmin, statussolmax = distributedFBA(model, solver, nWorkers=nWorkers, logFiles=true)\n",
       "```\n",
       "\n",
       "  * Save only the fluxes\n",
       "\n",
       "```julia\n",
       "julia> minFlux, maxFlux = distributedFBA(model, solver, preFBA=true, saveChunks=false, onlyFluxes=true)\n",
       "```\n",
       "\n",
       "  * Save flux vectors in files\n",
       "\n",
       "```julia\n",
       "julia> minFlux, maxFlux, optSol, fbaSol, fvamin, fvamax, statussolmin, statussolmax = distributedFBA(model, solver)\n",
       "```\n",
       "\n",
       "See also: `preFBA!()`, `splitRange()`, `buildCobraLP()`, `loopFBA()`, or `fetch()`\n"
      ]
     },
     "execution_count": 93,
     "metadata": {},
     "output_type": "execute_result"
    }
   ],
   "source": [
    "? distributedFBA"
   ]
  },
  {
   "cell_type": "markdown",
   "metadata": {},
   "source": [
    "## Installation check and package testing"
   ]
  },
  {
   "cell_type": "markdown",
   "metadata": {},
   "source": [
    "Please make sure that you have a working installation of `MathProgBase.jl` and at least one of the supported solvers. You may find further information [here](http://mathprogbasejl.readthedocs.io/en/latest/). You may run the following in order to be sure and check your system's configuration. \n",
    "\n",
    "You can find further information on how to install other supported solvers, such as `CPLEX`, `CLP`, `Gurobi`, or `Mosek` [here](https://github.com/JuliaOpt)."
   ]
  },
  {
   "cell_type": "code",
   "execution_count": 94,
   "metadata": {},
   "outputs": [
    {
     "name": "stdout",
     "output_type": "stream",
     "text": [
      "\u001b[1m\u001b[33m\n",
      " >> Checking the system's configuration ...\n",
      "\n",
      "\u001b[0m\u001b[1m\u001b[32mClp is installed.\n",
      "\u001b[0m\u001b[1m\u001b[32mGLPKMathProgInterface is installed.\n",
      "\u001b[0m\u001b[1m\u001b[32mGurobi is installed.\n",
      "\u001b[0m\u001b[1m\u001b[32mCPLEX is installed.\n",
      "\u001b[0m\u001b[1m\u001b[33mPackage Mosek is not installed. In order to use Mosek, you must first run `Pkg.add(\"Mosek\")`\n",
      "\u001b[0m\u001b[1m\u001b[32m\n",
      " >> Done. 4 solvers are installed and ready to use.\n",
      "\u001b[0m"
     ]
    }
   ],
   "source": [
    "# loads the functions to check your setup\n",
    "include(\"$(Pkg.dir(\"COBRA\"))/src/checkSetup.jl\") \n",
    "\n",
    "# list your installed packages\n",
    "packages = checkSysConfig()\n",
    "\n",
    "# clear the workspace of loaded packages\n",
    "workspace()"
   ]
  },
  {
   "cell_type": "markdown",
   "metadata": {},
   "source": [
    "You may, at any time, check the integrity of the `COBRA.jl` package by running:"
   ]
  },
  {
   "cell_type": "markdown",
   "metadata": {},
   "source": [
    "```Julia\n",
    "Pkg.test(\"COBRA\")\n",
    "```"
   ]
  },
  {
   "cell_type": "markdown",
   "metadata": {},
   "source": [
    "The code has been benchmarked against the `fastFVA` implementation [[3](#References-1)]. A test model `ecoli_core_model.mat` [[4](#References-1)] can be used to pre-compile the code and is available in the `/test` folder. The modules and solvers are correctly installed when all tests pass without errors (warnings may appear)."
   ]
  },
  {
   "cell_type": "markdown",
   "metadata": {},
   "source": [
    "## Adding local workers"
   ]
  },
  {
   "cell_type": "markdown",
   "metadata": {},
   "source": [
    "The connection functions are given in `connect.jl`, which, if a parallel version is desired, must be included separately:"
   ]
  },
  {
   "cell_type": "code",
   "execution_count": 95,
   "metadata": {},
   "outputs": [],
   "source": [
    "include(\"$(Pkg.dir(\"COBRA\"))/src/connect.jl\")"
   ]
  },
  {
   "cell_type": "markdown",
   "metadata": {},
   "source": [
    "You may add local workers as follows:"
   ]
  },
  {
   "cell_type": "code",
   "execution_count": 96,
   "metadata": {},
   "outputs": [
    {
     "name": "stdout",
     "output_type": "stream",
     "text": [
      "\u001b[1m\u001b[34m4 workers already connected. No further workers to connect.\n",
      "\u001b[0m"
     ]
    },
    {
     "name": "stderr",
     "output_type": "stream",
     "text": [
      "\u001b[1m\u001b[34mINFO: Parallel version - Connecting the 4 workers ...\n",
      "\u001b[0m"
     ]
    },
    {
     "data": {
      "text/plain": [
       "([2,3,4,5],4)"
      ]
     },
     "execution_count": 96,
     "metadata": {},
     "output_type": "execute_result"
    }
   ],
   "source": [
    "# specify the total number of parallel workers\n",
    "nWorkers = 4 \n",
    "\n",
    "# create a parallel pool\n",
    "workersPool, nWorkers = createPool(nWorkers) "
   ]
  },
  {
   "cell_type": "markdown",
   "metadata": {},
   "source": [
    "The IDs of the respective workers are given in `workersPool`, and the number of local workers is stored in `nWorkers`."
   ]
  },
  {
   "cell_type": "markdown",
   "metadata": {},
   "source": [
    "In order to be able to use the `COBRA` module on all connected workers, you must invoke (the `Compat` package may throw errors):"
   ]
  },
  {
   "cell_type": "code",
   "execution_count": 97,
   "metadata": {},
   "outputs": [
    {
     "name": "stderr",
     "output_type": "stream",
     "text": [
      "WARNING: Method definition zeros(AbstractArray) in module Compat at /home/laurent/.julia/v0.5/Compat/src/Compat.jl:1430 overwritten in module Compat at /home/laurent/.julia/v0.5/Compat/src/Compat.jl:1430.\n",
      "WARNING: Method definition zeros(AbstractArray, Type) in module Compat at /home/laurent/.julia/v0.5/Compat/src/Compat.jl:1430 overwritten in module Compat at /home/laurent/.julia/v0.5/Compat/src/Compat.jl:1430.\n",
      "WARNING: Method definition zeros(AbstractArray, Type, Tuple) in module Compat at /home/laurent/.julia/v0.5/Compat/src/Compat.jl:1428 overwritten in module Compat at /home/laurent/.julia/v0.5/Compat/src/Compat.jl:1428.\n",
      "WARNING: Method definition zeros(AbstractArray, Type, Any...) in module Compat at /home/laurent/.julia/v0.5/Compat/src/Compat.jl:1429 overwritten in module Compat at /home/laurent/.julia/v0.5/Compat/src/Compat.jl:1429.\n",
      "WARNING: Method definition unsafe_trunc(Type{#T<:Integer}, Integer) in module Compat at /home/laurent/.julia/v0.5/Compat/src/Compat.jl:1459 overwritten in module Compat at /home/laurent/.julia/v0.5/Compat/src/Compat.jl:1459.\n",
      "WARNING: Method definition convert(Type{Main.Base.Set{#T<:Any}}, Main.Base.Set{#T<:Any}) in module Compat at /home/laurent/.julia/v0.5/Compat/src/Compat.jl:1449 overwritten in module Compat at /home/laurent/.julia/v0.5/Compat/src/Compat.jl:1449.\n",
      "WARNING: Method definition convert(Type{Main.Base.Set{#T<:Any}}, Main.Base.Set) in module Compat at /home/laurent/.julia/v0.5/Compat/src/Compat.jl:1450 overwritten in module Compat at /home/laurent/.julia/v0.5/Compat/src/Compat.jl:1450.\n",
      "WARNING: Method definition ones(AbstractArray) in module Compat at /home/laurent/.julia/v0.5/Compat/src/Compat.jl:1430 overwritten in module Compat at /home/laurent/.julia/v0.5/Compat/src/Compat.jl:1430.\n",
      "WARNING: Method definition ones(AbstractArray, Type) in module Compat at /home/laurent/.julia/v0.5/Compat/src/Compat.jl:1430 overwritten in module Compat at /home/laurent/.julia/v0.5/Compat/src/Compat.jl:1430.\n",
      "WARNING: Method definition ones(AbstractArray, Type, Tuple) in module Compat at /home/laurent/.julia/v0.5/Compat/src/Compat.jl:1428 overwritten in module Compat at /home/laurent/.julia/v0.5/Compat/src/Compat.jl:1428.\n",
      "WARNING: Method definition ones(AbstractArray, Type, Any...) in module Compat at /home/laurent/.julia/v0.5/Compat/src/Compat.jl:1429 overwritten in module Compat at /home/laurent/.julia/v0.5/Compat/src/Compat.jl:1429.\n",
      "WARNING: Method definition take!(Task) in module Compat at /home/laurent/.julia/v0.5/Compat/src/Compat.jl:53 overwritten in module Compat at /home/laurent/.julia/v0.5/Compat/src/Compat.jl:53.\n",
      "WARNING: Method definition take!(Main.Base.AbstractIOBuffer) in module Compat at /home/laurent/.julia/v0.5/Compat/src/Compat.jl:1170 overwritten in module Compat at /home/laurent/.julia/v0.5/Compat/src/Compat.jl:1170.\n",
      "WARNING: Method definition redirect_stderr(Function, Any) in module Compat at /home/laurent/.julia/v0.5/Compat/src/Compat.jl:1055 overwritten in module Compat at /home/laurent/.julia/v0.5/Compat/src/Compat.jl:1055.\n",
      "WARNING: Method definition redirect_stdin(Function, Any) in module Compat at /home/laurent/.julia/v0.5/Compat/src/Compat.jl:1055 overwritten in module Compat at /home/laurent/.julia/v0.5/Compat/src/Compat.jl:1055.\n",
      "WARNING: Method definition isassigned(Main.Base.RefValue) in module Compat at /home/laurent/.julia/v0.5/Compat/src/Compat.jl:1455 overwritten in module Compat at /home/laurent/.julia/v0.5/Compat/src/Compat.jl:1455.\n",
      "WARNING: Method definition redirect_stdout(Function, Any) in module Compat at /home/laurent/.julia/v0.5/Compat/src/Compat.jl:1055 overwritten in module Compat at /home/laurent/.julia/v0.5/Compat/src/Compat.jl:1055.\n",
      "WARNING: Method definition broadcast(Any, Tuple{Vararg{T<:Any, #N<:Any}}, Tuple{Vararg{T<:Any, #N<:Any}}...) in module Compat at /home/laurent/.julia/v0.5/Compat/src/Compat.jl:1120 overwritten in module Compat at /home/laurent/.julia/v0.5/Compat/src/Compat.jl:1120.\n",
      "WARNING: Method definition !(Function) in module Compat at /home/laurent/.julia/v0.5/Compat/src/Compat.jl:1203 overwritten in module Compat at /home/laurent/.julia/v0.5/Compat/src/Compat.jl:1203.\n",
      "WARNING: Method definition isnull(Any) in module Compat at /home/laurent/.julia/v0.5/Compat/src/Compat.jl:1135 overwritten in module Compat at /home/laurent/.julia/v0.5/Compat/src/Compat.jl:1135.\n",
      "WARNING: Method definition (::Type{Main.Base.LinearIndexing})(Type{#T<:Any}) in module Compat at /home/laurent/.julia/v0.5/Compat/src/Compat.jl:1420 overwritten in module Compat at /home/laurent/.julia/v0.5/Compat/src/Compat.jl:1420.\n",
      "WARNING: Method definition (::Type{Main.Base.LinearIndexing})(Any...) in module Compat at /home/laurent/.julia/v0.5/Compat/src/Compat.jl:1421 overwritten in module Compat at /home/laurent/.julia/v0.5/Compat/src/Compat.jl:1421.\n",
      "WARNING: replacing module COBRA\n",
      "WARNING: replacing module COBRA\n",
      "WARNING: replacing module COBRA\n",
      "WARNING: replacing module COBRA\n"
     ]
    }
   ],
   "source": [
    "using COBRA"
   ]
  },
  {
   "cell_type": "markdown",
   "metadata": {},
   "source": [
    "## Define and change the COBRA solver\n",
    "\n",
    "Before the COBRA solver can be defined, the solver parameters and configuration must be loaded after having set the `solverName` (solver must be installed):\n",
    "\n",
    "- `:GLPKMathProgInterface`\n",
    "- `:CPLEX`\n",
    "- `:Clp`\n",
    "- `:Gurobi`\n",
    "- `:Mosek`"
   ]
  },
  {
   "cell_type": "code",
   "execution_count": 98,
   "metadata": {},
   "outputs": [
    {
     "data": {
      "text/plain": [
       "COBRA.SolverConfig(\"GLPKMathProgInterface\",GLPKMathProgInterface.GLPKInterfaceLP.GLPKSolverLP(true,:Simplex,Any[]))"
      ]
     },
     "execution_count": 98,
     "metadata": {},
     "output_type": "execute_result"
    }
   ],
   "source": [
    "# specify the solver name\n",
    "solverName = :GLPKMathProgInterface\n",
    "\n",
    "# include the solver configuration file\n",
    "include(\"$(Pkg.dir(\"COBRA\"))/config/solverCfg.jl\")\n",
    "\n",
    "# change the COBRA solver\n",
    "solver = changeCobraSolver(solverName, solParams)"
   ]
  },
  {
   "cell_type": "markdown",
   "metadata": {},
   "source": [
    "where `solParams` is an array with the definition of the solver parameters."
   ]
  },
  {
   "cell_type": "markdown",
   "metadata": {},
   "source": [
    "## Load a COBRA model\n",
    "\n",
    "As a test and as an example, the *E.coli* core model may be loaded as:"
   ]
  },
  {
   "cell_type": "code",
   "execution_count": 99,
   "metadata": {},
   "outputs": [
    {
     "name": "stderr",
     "output_type": "stream",
     "text": [
      "\u001b[1m\u001b[34mINFO: The ecoli_core model already exists.\n",
      "\u001b[0m\u001b[1m\u001b[34mINFO: The model objective is set to be maximized.\n",
      "\u001b[0m\u001b[1m\u001b[34mINFO: All constraints assumed equality constaints.\n",
      "\u001b[0m"
     ]
    }
   ],
   "source": [
    "# download the ecoli_core_model\n",
    "include(\"$(Pkg.dir(\"COBRA\"))/test/getTestModel.jl\")\n",
    "getTestModel()\n",
    "\n",
    "# load the stoichiometric matrix S from a struct named model in the specified .mat file\n",
    "model = loadModel(\"ecoli_core_model.mat\", \"S\", \"model\");"
   ]
  },
  {
   "cell_type": "markdown",
   "metadata": {},
   "source": [
    "where `S` is the name of the field of the stoichiometric matrix and `model` is the name of the model. Note the semicolon that suppresses the ouput of `model`."
   ]
  },
  {
   "cell_type": "markdown",
   "metadata": {},
   "source": [
    "\n",
    "## Flux Balance Analysis (FBA)\n",
    "\n",
    "In order to run a flux balance analysis (FBA), `distributedFBA` can be invoked with only 1 reaction and without an extra condition:"
   ]
  },
  {
   "cell_type": "code",
   "execution_count": 100,
   "metadata": {},
   "outputs": [
    {
     "name": "stdout",
     "output_type": "stream",
     "text": [
      "\n",
      " >> Size of stoichiometric matrix: (72, 95)\n",
      "\n",
      "\u001b[1m\u001b[34mpreFBA! [osenseStr = max]: FBAobj = 0.8739215069684303, optPercentage = 90.0, objValue = optPercentage * FBAobj = 0.7865289, norm(fbaSol) = 106.83731553000716.\n",
      "\n",
      "\u001b[0m\u001b[1m\u001b[32mOriginal FBA solved. Solution time: 0.501013994216919 s.\n",
      "\n",
      "\u001b[0m >> Only 1 reaction of 95 will be solved (~ 1.0526315789473684 %).\n",
      "\n",
      " -- Maximization (iRound = 1). Block 1 [1/95].\n"
     ]
    }
   ],
   "source": [
    "# set the reaction list (only one reaction)\n",
    "rxnsList = 13\n",
    "\n",
    "# select the reaction optimization mode\n",
    "#  0: only minimization\n",
    "#  1: only maximization\n",
    "#  2: maximization and minimization\n",
    "rxnsOptMode = 1\n",
    "\n",
    "# launch the distributedFBA process with only 1 reaction on 1 worker\n",
    "# distributedFBA(model, solver, nWorkers, optPercentage, objective, rxnsList, strategy, preFBA, rxnsOptMode)\n",
    "minFlux, maxFlux  = distributedFBA(model, solver, nWorkers=1, optPercentage=90.0, rxnsList=rxnsList,rxnsOptMode=rxnsOptMode);"
   ]
  },
  {
   "cell_type": "markdown",
   "metadata": {},
   "source": [
    "where the reaction number `13` is solved. Note that the no extra conditions are added to the model (last function argument is `false`). The minimum flux and maximum flux can hence be listed as:"
   ]
  },
  {
   "cell_type": "code",
   "execution_count": 101,
   "metadata": {
    "scrolled": true
   },
   "outputs": [
    {
     "data": {
      "text/plain": [
       "0.8739215069684305"
      ]
     },
     "execution_count": 101,
     "metadata": {},
     "output_type": "execute_result"
    }
   ],
   "source": [
    "maxFlux[rxnsList]"
   ]
  },
  {
   "cell_type": "markdown",
   "metadata": {},
   "source": [
    "## Flux Variability Analysis (FVA)\n",
    "\n",
    "In order to run a common flux variability analysis (FVA), `distributedFBA` can be invoked with all reactions as follows:"
   ]
  },
  {
   "cell_type": "code",
   "execution_count": 102,
   "metadata": {},
   "outputs": [
    {
     "name": "stdout",
     "output_type": "stream",
     "text": [
      "\n",
      " >> Size of stoichiometric matrix: (73, 95)\n",
      "\n",
      "\u001b[1m\u001b[34mpreFBA! [osenseStr = max]: FBAobj = 0.8739215069684305, optPercentage = 90.0, objValue = optPercentage * FBAobj = 0.7865289, norm(fbaSol) = 106.83731553000717.\n",
      "\n",
      "\u001b[0m\u001b[1m\u001b[32mOriginal FBA solved. Solution time: 0.0019719600677490234 s.\n",
      "\n",
      "\u001b[0m >> All 95 reactions of the model will be solved (100 %).\n",
      "\n",
      "\u001b[1m\u001b[34mAverage load per worker: 24 reactions (4 workers).\n",
      "\u001b[0m\u001b[1m\u001b[34mSplitting strategy is 0.\n",
      "\n",
      "\u001b[0m\tFrom worker 5:\t -- Minimization (iRound = 0). Block 5 [23/95].\n",
      "\tFrom worker 4:\t -- Minimization (iRound = 0). Block 4 [24/95].\n",
      "\tFrom worker 5:\t -- Maximization (iRound = 1). Block 5 [23/95].\n",
      "\tFrom worker 4:\t -- Maximization (iRound = 1). Block 4 [24/95].\n",
      "\tFrom worker 2:\t -- Minimization (iRound = 0). Block 2 [24/95].\n",
      "\tFrom worker 3:\t -- Minimization (iRound = 0). Block 3 [24/95].\n",
      "\tFrom worker 2:\t -- Maximization (iRound = 1). Block 2 [24/95].\n",
      "\tFrom worker 3:\t -- Maximization (iRound = 1). Block 3 [24/95].\n"
     ]
    }
   ],
   "source": [
    "# launch the distributedFBA process with all reactions\n",
    "# distributedFBA(model, solver, nWorkers, optPercentage, objective, rxnsList, strategy, preFBA, rxnsOptMode)\n",
    "minFlux, maxFlux, optSol, fbaSol, fvamin, fvamax = distributedFBA(model, solver, nWorkers=4, optPercentage=90.0);"
   ]
  },
  {
   "cell_type": "markdown",
   "metadata": {},
   "source": [
    "The optimal solution of the original FBA problem can be retrieved with:"
   ]
  },
  {
   "cell_type": "code",
   "execution_count": 103,
   "metadata": {},
   "outputs": [
    {
     "data": {
      "text/plain": [
       "0.8739215069684305"
      ]
     },
     "execution_count": 103,
     "metadata": {},
     "output_type": "execute_result"
    }
   ],
   "source": [
    "optSol"
   ]
  },
  {
   "cell_type": "markdown",
   "metadata": {},
   "source": [
    "The corresponding solution vector `maxFlux` of the original FBA that is solved with:"
   ]
  },
  {
   "cell_type": "code",
   "execution_count": 104,
   "metadata": {},
   "outputs": [
    {
     "data": {
      "text/plain": [
       "95-element Array{Float64,1}:\n",
       " -1.24283e-29\n",
       "  0.0        \n",
       " -8.0942e-29 \n",
       "  6.00725    \n",
       "  6.00725    \n",
       " -0.0        \n",
       "  0.0        \n",
       "  5.06438    \n",
       " -0.0        \n",
       " -1.24283e-29\n",
       "  8.39       \n",
       " 45.514      \n",
       "  0.873922   \n",
       "  ⋮          \n",
       " -0.0        \n",
       "  2.67848    \n",
       " -2.2815     \n",
       " -0.0        \n",
       "  0.0        \n",
       "  5.06438    \n",
       " -5.06438    \n",
       "  1.49698    \n",
       "  0.0        \n",
       "  1.49698    \n",
       "  1.1815     \n",
       "  7.47738    "
      ]
     },
     "execution_count": 104,
     "metadata": {},
     "output_type": "execute_result"
    }
   ],
   "source": [
    "fbaSol"
   ]
  },
  {
   "cell_type": "markdown",
   "metadata": {},
   "source": [
    "The minimum and maximum fluxes of each reaction are in:"
   ]
  },
  {
   "cell_type": "code",
   "execution_count": 105,
   "metadata": {},
   "outputs": [
    {
     "data": {
      "text/plain": [
       "95-element Array{Float64,1}:\n",
       "   -2.9243e-29 \n",
       "    0.0        \n",
       "   -8.87161e-29\n",
       "    8.89453    \n",
       "    8.89453    \n",
       "    0.0        \n",
       "   17.1611     \n",
       "    8.04594    \n",
       "    0.0        \n",
       "   -2.9243e-29 \n",
       "   25.5511     \n",
       "   59.3811     \n",
       "    0.873922   \n",
       "    ⋮          \n",
       "    0.0        \n",
       "   15.5265     \n",
       "   -0.565357   \n",
       "   22.8815     \n",
       "   22.8815     \n",
       " 1000.0        \n",
       "   -1.00265e-28\n",
       "    7.90523    \n",
       "   37.0422     \n",
       "    7.90523    \n",
       "    7.62129    \n",
       "    9.21764    "
      ]
     },
     "execution_count": 105,
     "metadata": {},
     "output_type": "execute_result"
    }
   ],
   "source": [
    "maxFlux"
   ]
  },
  {
   "cell_type": "markdown",
   "metadata": {},
   "source": [
    "The flux vectors of all the reactions are stored in `fvamin` and `fvamax`."
   ]
  },
  {
   "cell_type": "code",
   "execution_count": 106,
   "metadata": {},
   "outputs": [
    {
     "data": {
      "text/plain": [
       "95×95 Array{Float64,2}:\n",
       " -2.54238      -2.54238       2.19322e-30  …  -1.0235e-29   -2.23709e-28\n",
       " -2.54238      -2.54238       0.0              0.0           0.0        \n",
       " -2.2865e-31   -2.2865e-31   -3.81358         -4.29861e-29   1.36458e-27\n",
       "  4.75567       4.75567       3.23024          7.8033        0.848586   \n",
       "  4.75567       4.75567       3.23024          7.8033        0.848586   \n",
       " -0.0          -0.0          -3.81358      …  -0.0          -0.0        \n",
       "  0.0           0.0           0.0              0.0           3.97558    \n",
       "  3.90709       3.90709       2.38166          6.87133       0.0        \n",
       " -0.0          -0.0          -0.0             -0.0          -0.0        \n",
       "  8.04182e-30   8.04182e-30   2.19322e-30     -1.0235e-29   -2.23709e-28\n",
       "  8.39          8.39          8.39         …   8.39          8.39       \n",
       " 40.5609       40.5609       38.527           41.3535       54.893      \n",
       "  0.786529      0.786529      0.786529         0.863813      0.786529   \n",
       "  ⋮                                        ⋱                            \n",
       " -0.0          -0.0          -0.0             -0.0          -0.0        \n",
       "  2.62758       2.62758       3.13606         -0.620909     15.5265     \n",
       " -2.16183      -2.16183      -2.41606      …  -0.620909     -8.6113     \n",
       " -0.0          -0.0          -0.0             -0.0          -0.0        \n",
       "  0.0           0.0           0.0              0.0           0.0        \n",
       "  3.90709       3.90709       2.38166          6.87133       0.0        \n",
       " -3.90709      -3.90709      -2.38166         -6.87133      -1.77592e-27\n",
       "  1.45576       1.45576       1.71         …  -0.154536      7.90523    \n",
       "  0.0           0.0           0.0              7.9397        8.97615    \n",
       "  1.45576       1.45576       1.71            -0.154536      7.90523    \n",
       "  1.17182       1.17182       1.42606         -0.466373      7.62129    \n",
       "  7.62117       7.62117       7.36693          9.14076       1.1717     "
      ]
     },
     "execution_count": 106,
     "metadata": {},
     "output_type": "execute_result"
    }
   ],
   "source": [
    "fvamin"
   ]
  },
  {
   "cell_type": "code",
   "execution_count": 107,
   "metadata": {
    "scrolled": true
   },
   "outputs": [
    {
     "data": {
      "text/plain": [
       "95×95 Array{Float64,2}:\n",
       " -2.9243e-29   -2.9243e-29   -2.9243e-29   …  -2.23709e-28  -2.9243e-29 \n",
       "  0.0           0.0           0.0              0.0           0.0        \n",
       " -8.87161e-29  -8.87161e-29  -8.87161e-29      1.36458e-27  -8.87161e-29\n",
       "  8.89453       8.89453       8.89453          0.848586      8.89453    \n",
       "  8.89453       8.89453       8.89453          0.848586      8.89453    \n",
       " -0.0          -0.0          -0.0          …  -0.0          -0.0        \n",
       "  0.0           0.0           0.0              3.97558       0.0        \n",
       "  8.04594       8.04594       8.04594          0.0           8.04594    \n",
       " -0.0          -0.0          -0.0             -0.0          -0.0        \n",
       " -2.9243e-29   -2.9243e-29   -2.9243e-29      -2.23709e-28  -2.9243e-29 \n",
       "  8.39          8.39          8.39         …   8.39          8.39       \n",
       " 38.8959       38.8959       38.8959          54.893        38.8959     \n",
       "  0.786529      0.786529      0.786529         0.786529      0.786529   \n",
       "  ⋮                                        ⋱                            \n",
       " -0.0          -0.0          -0.0             -0.0          -0.0        \n",
       " -0.565357     -0.565357     -0.565357        15.5265       -0.565357   \n",
       " -0.565357     -0.565357     -0.565357     …  -8.6113       -0.565357   \n",
       " -0.0          -0.0          -0.0             -0.0          -0.0        \n",
       "  0.0           0.0           0.0              0.0           0.0        \n",
       "  8.04594       8.04594       8.04594          0.0           8.04594    \n",
       " -8.04594      -8.04594      -8.04594         -1.77592e-27  -8.04594    \n",
       " -0.14071      -0.14071      -0.14071      …   7.90523      -0.14071    \n",
       " 28.9014       28.9014       28.9014           8.97615      28.9014     \n",
       " -0.14071      -0.14071      -0.14071          7.90523      -0.14071    \n",
       " -0.424647     -0.424647     -0.424647         7.62129      -0.424647   \n",
       "  9.21764       9.21764       9.21764          1.1717        9.21764    "
      ]
     },
     "execution_count": 107,
     "metadata": {},
     "output_type": "execute_result"
    }
   ],
   "source": [
    "fvamax"
   ]
  },
  {
   "cell_type": "markdown",
   "metadata": {},
   "source": [
    "## Distributed FBA of distinct reactions\n",
    "\n",
    "You may now input several reactions with various `rxnsOptMode` values to run specific optimization problems."
   ]
  },
  {
   "cell_type": "code",
   "execution_count": 108,
   "metadata": {},
   "outputs": [
    {
     "name": "stdout",
     "output_type": "stream",
     "text": [
      "\n",
      " >> Size of stoichiometric matrix: (74, 95)\n",
      "\n",
      "\u001b[1m\u001b[36mThe optPercentage is higher than 90. The solution process might take longer than expected.\n",
      "\n",
      "\u001b[0m\u001b[1m\u001b[34mpreFBA! [osenseStr = max]: FBAobj = 0.8739215069684305, optPercentage = 100.0, objValue = optPercentage * FBAobj = 0.873921, norm(fbaSol) = 106.83731553000717.\n",
      "\n",
      "\u001b[0m\u001b[1m\u001b[32mOriginal FBA solved. Solution time: 0.002162933349609375 s.\n",
      "\n",
      "\u001b[0m >> All 95 reactions of the model will be solved (100 %).\n",
      "\n",
      " -- Minimization (iRound = 0). Block 1 [95/95].\n",
      " -- Maximization (iRound = 1). Block 1 [95/95].\n"
     ]
    }
   ],
   "source": [
    "rxnsList = [1; 18; 10; 20:30; 90; 93; 95]\n",
    "rxnsOptMode = [0; 1; 2; 2+zeros(Int, length(20:30)); 2; 1; 0]\n",
    "\n",
    "# run only a few reactions with rxnsOptMode and rxnsList\n",
    "# distributedFBA(model, solver, nWorkers, optPercentage, objective, rxnsList, strategy, preFBA, rxnsOptMode)\n",
    "minFlux, maxFlux, optSol, fbaSol, fvamin, fvamax, statussolmin, statussolmax = distributedFBA(model, solver);"
   ]
  },
  {
   "cell_type": "markdown",
   "metadata": {},
   "source": [
    "Note that the reactions can be input as an unordered list."
   ]
  },
  {
   "cell_type": "markdown",
   "metadata": {},
   "source": [
    "## Save the variables"
   ]
  },
  {
   "cell_type": "markdown",
   "metadata": {},
   "source": [
    "You can save the output of `distributedFBA` by using:"
   ]
  },
  {
   "cell_type": "code",
   "execution_count": 109,
   "metadata": {},
   "outputs": [
    {
     "name": "stdout",
     "output_type": "stream",
     "text": [
      "Saving minFlux (T:> Array{Float64,1}) ...\u001b[1m\u001b[32mDone.\n",
      "\u001b[0mSaving maxFlux (T:> Array{Float64,1}) ...\u001b[1m\u001b[32mDone.\n",
      "\u001b[0mSaving optSol (T:> Float64) ...\u001b[1m\u001b[32mDone.\n",
      "\u001b[0mSaving fbaSol (T:> Array{Float64,1}) ...\u001b[1m\u001b[32mDone.\n",
      "\u001b[0mSaving fvamin (T:> Array{Float64,2}) ...\u001b[1m\u001b[32mDone.\n",
      "\u001b[0mSaving fvamax (T:> Array{Float64,2}) ...\u001b[1m\u001b[32mDone.\n",
      "\u001b[0mSaving statussolmin (T:> Array{Float64,1}) ...\u001b[1m\u001b[32mDone.\n",
      "\u001b[0mSaving statussolmax (T:> Array{Float64,1}) ...\u001b[1m\u001b[32mDone.\n",
      "\u001b[0mSaving rxnsList (T:> Array{Int64,1}) ...\u001b[1m\u001b[32mDone.\n",
      "\u001b[0m\u001b[1m\u001b[32mAll available variables saved to results.mat.\n",
      "\u001b[0m"
     ]
    }
   ],
   "source": [
    "saveDistributedFBA(\"results.mat\")"
   ]
  },
  {
   "cell_type": "markdown",
   "metadata": {},
   "source": [
    "## References"
   ]
  },
  {
   "cell_type": "markdown",
   "metadata": {},
   "source": [
    "1. [B. O. Palsson. Systems Biology: Constraint-based Reconstruction and Analysis. Cambridge University Press, NY, 2015.](http://www.cambridge.org/us/academic/subjects/life-sciences/genomics-bioinformatics-and-systems-biology/systems-biology-constraint-based-reconstruction-and-analysis?format=HB)\n",
    "2. [Schellenberger, J. et al. COBRA Toolbox 2.0. 05 2011.](https://github.com/opencobra/cobratoolbox)\n",
    "3. [Steinn, G. et al. Computationally efficient flux variability analysis. BMC Bioinformatics, 11(1):1–3, 2010.](https://bmcbioinformatics.biomedcentral.com/articles/10.1186/1471-2105-11-489)\n",
    "4. [Orth, J. et al. Reconstruction and use of microbial metabolic networks: the core escherichia coli metabolic model as an educational guide. EcoSal Plus, 2010.](http://gcrg.ucsd.edu/Downloads/EcoliCore)\n"
   ]
  }
 ],
 "metadata": {
  "anaconda-cloud": {},
  "kernelspec": {
   "display_name": "Julia 0.5.0",
   "language": "julia",
   "name": "julia-0.5"
  },
  "language_info": {
   "file_extension": ".jl",
   "mimetype": "application/julia",
   "name": "julia",
   "version": "0.5.0"
  }
 },
 "nbformat": 4,
 "nbformat_minor": 1
}
